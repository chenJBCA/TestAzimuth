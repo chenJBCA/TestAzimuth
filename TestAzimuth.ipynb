{
 "cells": [
  {
   "cell_type": "code",
   "execution_count": 1,
   "id": "588f299a",
   "metadata": {},
   "outputs": [],
   "source": [
    "import numpy as np\n",
    "import astropy \n"
   ]
  },
  {
   "cell_type": "code",
   "execution_count": 2,
   "id": "b7eae9ec",
   "metadata": {},
   "outputs": [],
   "source": [
    "a = np.arange(10)"
   ]
  },
  {
   "cell_type": "code",
   "execution_count": 3,
   "id": "84959a8b",
   "metadata": {},
   "outputs": [],
   "source": [
    "b = np.arange(10)+200"
   ]
  },
  {
   "cell_type": "code",
   "execution_count": 4,
   "id": "a0eee47c",
   "metadata": {},
   "outputs": [],
   "source": [
    "c = a+b"
   ]
  },
  {
   "cell_type": "code",
   "execution_count": 5,
   "id": "109b32b7",
   "metadata": {},
   "outputs": [
    {
     "name": "stdout",
     "output_type": "stream",
     "text": [
      "the value of C is  [200 202 204 206 208 210 212 214 216 218]\n"
     ]
    }
   ],
   "source": [
    "print('the value of C is ', c)"
   ]
  },
  {
   "cell_type": "code",
   "execution_count": null,
   "id": "a16f8f7b",
   "metadata": {},
   "outputs": [],
   "source": []
  }
 ],
 "metadata": {
  "kernelspec": {
   "display_name": "Python 3 (ipykernel)",
   "language": "python",
   "name": "python3"
  },
  "language_info": {
   "codemirror_mode": {
    "name": "ipython",
    "version": 3
   },
   "file_extension": ".py",
   "mimetype": "text/x-python",
   "name": "python",
   "nbconvert_exporter": "python",
   "pygments_lexer": "ipython3",
   "version": "3.11.7"
  }
 },
 "nbformat": 4,
 "nbformat_minor": 5
}
